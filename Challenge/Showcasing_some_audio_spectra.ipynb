{
  "nbformat": 4,
  "nbformat_minor": 0,
  "metadata": {
    "colab": {
      "name": "Showcasing some audio spectra",
      "version": "0.3.2",
      "provenance": [],
      "collapsed_sections": [],
      "include_colab_link": true
    },
    "kernelspec": {
      "name": "python3",
      "display_name": "Python 3"
    },
    "accelerator": "GPU"
  },
  "cells": [
    {
      "cell_type": "markdown",
      "metadata": {
        "id": "view-in-github",
        "colab_type": "text"
      },
      "source": [
        "<a href=\"https://colab.research.google.com/github/fruitpunch-ai-code/epoch-4/blob/master/Challenge/Showcasing_some_audio_spectra.ipynb\" target=\"_parent\"><img src=\"https://colab.research.google.com/assets/colab-badge.svg\" alt=\"Open In Colab\"/></a>"
      ]
    },
    {
      "cell_type": "markdown",
      "metadata": {
        "id": "pO4-CY_TCZZS",
        "colab_type": "text"
      },
      "source": [
        "# Showcasing some spectra"
      ]
    },
    {
      "cell_type": "markdown",
      "metadata": {
        "id": "OutjBlTe4GpZ",
        "colab_type": "text"
      },
      "source": [
        "## CodeAI\n",
        "\n",
        "Before starting, let's look at the data that we are going to learn with.\n",
        "First lets download the whole dataset."
      ]
    },
    {
      "cell_type": "code",
      "metadata": {
        "id": "DNXKS7I54meF",
        "colab_type": "code",
        "colab": {}
      },
      "source": [
        "from IPython.display import Audio\n",
        "!wget -N https://storage.googleapis.com/download.tensorflow.org/data/speech_commands_v0.02.tar.gz\n",
        "!mkdir -p speech\n",
        "!tar -xzf speech_commands_v0.02.tar.gz -C speech"
      ],
      "execution_count": 0,
      "outputs": []
    },
    {
      "cell_type": "markdown",
      "metadata": {
        "id": "gTtGNshwOIwp",
        "colab_type": "text"
      },
      "source": [
        "Let's run each cell to listen to the utterences of \"on\" and the spectrum associated with it."
      ]
    },
    {
      "cell_type": "code",
      "metadata": {
        "id": "mrykY3hA9J13",
        "colab_type": "code",
        "colab": {}
      },
      "source": [
        "Audio(filename=\"/content/speech/on/004ae714_nohash_0.wav\")"
      ],
      "execution_count": 0,
      "outputs": []
    },
    {
      "cell_type": "code",
      "metadata": {
        "id": "DrUgPWG1HQDD",
        "colab_type": "code",
        "colab": {}
      },
      "source": [
        "from tensorflow.contrib.framework.python.ops import audio_ops\n",
        "import tensorflow as tf\n",
        "import numpy as np\n",
        "from tensorflow.python.ops import io_ops\n",
        "import matplotlib.pylab as pylab\n",
        "\n",
        "#WAV audio loader\n",
        "wav_filename_placeholder_ = tf.placeholder(tf.string, [], name='wav_filename')\n",
        "wav_loader = io_ops.read_file(wav_filename_placeholder_)\n",
        "sample_rate = 16000\n",
        "desired_samples = 16000 #1 sec audio\n",
        "wav_decoder = audio_ops.decode_wav(wav_loader, desired_channels=1, desired_samples=desired_samples)\n",
        "\n",
        "#Computing the spectrograms\n",
        "spectrogram = audio_ops.audio_spectrogram(wav_decoder.audio,\n",
        "                                              window_size=320,\n",
        "                                              stride=160,\n",
        "                                              magnitude_squared=False)\n",
        "with tf.Session() as sess:\n",
        "    feed_dict={wav_filename_placeholder_:\"/content/speech/on/004ae714_nohash_0.wav\"}\n",
        "    #Get the input audio and the spectrogram\n",
        "    audio_ops_wav_decoder_audio, audio_ops_spectrogram = sess.run([wav_decoder.audio, spectrogram], feed_dict)\n",
        "    p0 = pylab.figure(figsize = (15,15))\n",
        "    pylab.imshow(audio_ops_spectrogram[0],interpolation='nearest')\n"
      ],
      "execution_count": 0,
      "outputs": []
    },
    {
      "cell_type": "code",
      "metadata": {
        "id": "-6rdC_fHAHnt",
        "colab_type": "code",
        "colab": {}
      },
      "source": [
        "Audio(filename=\"/content/speech/on/004ae714_nohash_1.wav\")"
      ],
      "execution_count": 0,
      "outputs": []
    },
    {
      "cell_type": "code",
      "metadata": {
        "id": "LqW8otVCK-qx",
        "colab_type": "code",
        "colab": {}
      },
      "source": [
        "with tf.Session() as sess:\n",
        "    feed_dict={wav_filename_placeholder_:\"/content/speech/on/004ae714_nohash_1.wav\"}\n",
        "    #Get the input audio and the spectrogram\n",
        "    audio_ops_wav_decoder_audio, audio_ops_spectrogram = sess.run([wav_decoder.audio, spectrogram], feed_dict)\n",
        "    p0 = pylab.figure(figsize = (15,15))\n",
        "    pylab.imshow(audio_ops_spectrogram[0])\n"
      ],
      "execution_count": 0,
      "outputs": []
    },
    {
      "cell_type": "code",
      "metadata": {
        "id": "qByctjM6AI7j",
        "colab_type": "code",
        "colab": {}
      },
      "source": [
        "\n",
        "Audio(filename=\"/content/speech/on/00b01445_nohash_0.wav\")"
      ],
      "execution_count": 0,
      "outputs": []
    },
    {
      "cell_type": "code",
      "metadata": {
        "id": "zRSjJZUFK_j2",
        "colab_type": "code",
        "colab": {}
      },
      "source": [
        "with tf.Session() as sess:\n",
        "    feed_dict={wav_filename_placeholder_:\"/content/speech/on/00b01445_nohash_0.wav\"}\n",
        "    #Get the input audio and the spectrogram\n",
        "    audio_ops_wav_decoder_audio, audio_ops_spectrogram = sess.run([wav_decoder.audio, spectrogram], feed_dict)\n",
        "    p0 = pylab.figure(figsize = (15,15))\n",
        "    pylab.imshow(audio_ops_spectrogram[0])\n"
      ],
      "execution_count": 0,
      "outputs": []
    },
    {
      "cell_type": "code",
      "metadata": {
        "id": "kwf73AHFAKTp",
        "colab_type": "code",
        "colab": {}
      },
      "source": [
        "\n",
        "Audio(filename=\"/content/speech/on/0132a06d_nohash_0.wav\")"
      ],
      "execution_count": 0,
      "outputs": []
    },
    {
      "cell_type": "code",
      "metadata": {
        "id": "JzBK8-u2LAdr",
        "colab_type": "code",
        "colab": {}
      },
      "source": [
        "with tf.Session() as sess:\n",
        "    feed_dict={wav_filename_placeholder_:\"/content/speech/on/0132a06d_nohash_0.wav\"}\n",
        "    #Get the input audio and the spectrogram\n",
        "    audio_ops_wav_decoder_audio, audio_ops_spectrogram = sess.run([wav_decoder.audio, spectrogram], feed_dict)\n",
        "    p0 = pylab.figure(figsize = (15,15))\n",
        "    pylab.imshow(audio_ops_spectrogram[0])\n"
      ],
      "execution_count": 0,
      "outputs": []
    }
  ]
}